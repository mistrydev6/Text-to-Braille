{
 "cells": [
  {
   "cell_type": "code",
   "execution_count": 2,
   "metadata": {},
   "outputs": [],
   "source": [
    "import pandas as pd\n",
    "import numpy as np"
   ]
  },
  {
   "cell_type": "code",
   "execution_count": 3,
   "metadata": {},
   "outputs": [],
   "source": [
    "brailleDict={\n",
    "    \"Alphabets\":[\"⠁\",\"⠃\",\"⠉\",\"⠙\",\"⠑\",\"⠋\",\"⠛\",\"⠓\",\"⠊\",\"⠚\",\"⠅\",\"⠇\",\"⠍\",\"⠝\",\"⠕\",\"⠏\",\"⠟\",\"⠗\",\"⠎\",\"⠞\",\"⠥\",\"⠧\",\"⠺\",\"⠭\",\"⠽\",\"⠵\"],\n",
    "    \"Numbers\":[\"⠁\",\"⠃\",\"⠉\",\"⠙\",\"⠑\",\"⠋\",\"⠛\",\"⠓\",\"⠊\",\"⠚\"],\n",
    "}"
   ]
  },
  {
   "cell_type": "code",
   "execution_count": 6,
   "metadata": {},
   "outputs": [
    {
     "name": "stdout",
     "output_type": "stream",
     "text": [
      "⠃\n"
     ]
    }
   ],
   "source": [
    "print(brailleDict[\"Alphabets\"])"
   ]
  },
  {
   "cell_type": "code",
   "execution_count": 29,
   "metadata": {},
   "outputs": [
    {
     "name": "stdout",
     "output_type": "stream",
     "text": [
      "⠁\n",
      "⠃\n",
      "⠉\n"
     ]
    }
   ],
   "source": [
    "a=\"ABC\"\n",
    "\n",
    "z=0\n",
    "bz=0\n",
    "l=[]\n",
    "bl=[]\n",
    "for x in a:\n",
    "    #print(a[z])\n",
    "    z=z+1\n",
    "    l.append(x)\n",
    "\n",
    "    if  x[0]==\"A\" or x[0]==\"a\":\n",
    "        bl.append(brailleDict[\"Alphabets\"][bz])\n",
    "        print(brailleDict[\"Alphabets\"][bz])\n",
    "    elif x[0]==\"B\" or x[0]==\"b\":\n",
    "        bl.append(brailleDict[\"Alphabets\"][bz])\n",
    "        print(brailleDict[\"Alphabets\"][bz])\n",
    "    elif x[0]==\"C\" or x[0]==\"c\":\n",
    "        bl.append(brailleDict[\"Alphabets\"][bz])\n",
    "        print(brailleDict[\"Alphabets\"][bz])\n",
    "\n",
    "    bz=bz+1\n",
    "    \n",
    "\n",
    "#print(l)\n",
    "\n",
    "#ab=str(bl)\n",
    "#print(ab)\n",
    "#print(type(ab))\n",
    "\n"
   ]
  },
  {
   "cell_type": "code",
   "execution_count": 1,
   "metadata": {},
   "outputs": [
    {
     "ename": "NameError",
     "evalue": "name 'brailleDict' is not defined",
     "output_type": "error",
     "traceback": [
      "\u001b[1;31m---------------------------------------------------------------------------\u001b[0m",
      "\u001b[1;31mNameError\u001b[0m                                 Traceback (most recent call last)",
      "\u001b[1;32mc:\\Users\\Dev\\Desktop\\Text-to-Braille\\main.ipynb Cell 5\u001b[0m in \u001b[0;36m<cell line: 1>\u001b[1;34m()\u001b[0m\n\u001b[1;32m----> <a href='vscode-notebook-cell:/c%3A/Users/Dev/Desktop/Text-to-Braille/main.ipynb#W4sZmlsZQ%3D%3D?line=0'>1</a>\u001b[0m \u001b[39mprint\u001b[39m(brailleDict[\u001b[39m\"\u001b[39m\u001b[39mAlphabets\u001b[39m\u001b[39m\"\u001b[39m][\u001b[39m0\u001b[39m],brailleDict[\u001b[39m\"\u001b[39m\u001b[39mAlphabets\u001b[39m\u001b[39m\"\u001b[39m][\u001b[39m5\u001b[39m],brailleDict[\u001b[39m\"\u001b[39m\u001b[39mAlphabets\u001b[39m\u001b[39m\"\u001b[39m][\u001b[39m15\u001b[39m])\n\u001b[0;32m      <a href='vscode-notebook-cell:/c%3A/Users/Dev/Desktop/Text-to-Braille/main.ipynb#W4sZmlsZQ%3D%3D?line=2'>3</a>\u001b[0m a\u001b[39m=\u001b[39m[\u001b[39m0\u001b[39m,\u001b[39m1\u001b[39m,\u001b[39m2\u001b[39m]\n\u001b[0;32m      <a href='vscode-notebook-cell:/c%3A/Users/Dev/Desktop/Text-to-Braille/main.ipynb#W4sZmlsZQ%3D%3D?line=4'>5</a>\u001b[0m \u001b[39mprint\u001b[39m(brailleDict[\u001b[39m\"\u001b[39m\u001b[39mAlphabets\u001b[39m\u001b[39m\"\u001b[39m][a[\u001b[39m1\u001b[39m]])\n",
      "\u001b[1;31mNameError\u001b[0m: name 'brailleDict' is not defined"
     ]
    }
   ],
   "source": [
    "print(brailleDict[\"Alphabets\"][0],brailleDict[\"Alphabets\"][5],brailleDict[\"Alphabets\"][15])\n"
   ]
  }
 ],
 "metadata": {
  "kernelspec": {
   "display_name": "Python 3",
   "language": "python",
   "name": "python3"
  },
  "language_info": {
   "codemirror_mode": {
    "name": "ipython",
    "version": 3
   },
   "file_extension": ".py",
   "mimetype": "text/x-python",
   "name": "python",
   "nbconvert_exporter": "python",
   "pygments_lexer": "ipython3",
   "version": "3.10.1"
  },
  "orig_nbformat": 4
 },
 "nbformat": 4,
 "nbformat_minor": 2
}
