{
 "cells": [
  {
   "cell_type": "code",
   "execution_count": 3,
   "metadata": {},
   "outputs": [],
   "source": [
    "import pandas as pd\n",
    "import numpy as np"
   ]
  },
  {
   "cell_type": "code",
   "execution_count": 4,
   "metadata": {},
   "outputs": [
    {
     "name": "stdout",
     "output_type": "stream",
     "text": [
      "['⠁', '⠃', '⠉', '⠙', '⠑', '⠋', '⠛', '⠓', '⠊', '⠚', '⠅', '⠇', '⠍', '⠝', '⠕', '⠏', '⠟', '⠗', '⠎', '⠞', '⠥', '⠧', '⠺', '⠭', '⠽', '⠵']\n",
      "⠁ ⠋\n"
     ]
    }
   ],
   "source": [
    "brailleDict={\n",
    "    \"Alphabets\":[\"⠁\",\"⠃\",\"⠉\",\"⠙\",\"⠑\",\"⠋\",\"⠛\",\"⠓\",\"⠊\",\"⠚\",\"⠅\",\"⠇\",\"⠍\",\"⠝\",\"⠕\",\"⠏\",\"⠟\",\"⠗\",\"⠎\",\"⠞\",\"⠥\",\"⠧\",\"⠺\",\"⠭\",\"⠽\",\"⠵\"],\n",
    "    \"Numbers\":[\"⠁\",\"⠃\",\"⠉\",\"⠙\",\"⠑\",\"⠋\",\"⠛\",\"⠓\",\"⠊\",\"⠚\"],\n",
    "}\n"
   ]
  },
  {
   "cell_type": "code",
   "execution_count": 5,
   "metadata": {},
   "outputs": [
    {
     "name": "stdout",
     "output_type": "stream",
     "text": [
      "['⠁', '⠃', '⠉', '⠙', '⠑', '⠋', '⠛', '⠓', '⠊', '⠚', '⠅', '⠇', '⠍', '⠝', '⠕', '⠏', '⠟', '⠗', '⠎', '⠞', '⠥', '⠧', '⠺', '⠭', '⠽', '⠵']\n"
     ]
    }
   ],
   "source": [
    "print(brailleDict[\"Alphabets\"])"
   ]
  },
  {
   "cell_type": "code",
   "execution_count": 7,
   "metadata": {},
   "outputs": [
    {
     "name": "stdout",
     "output_type": "stream",
     "text": [
      "⠁ ⠋ ⠏\n"
     ]
    }
   ],
   "source": [
    "print(brailleDict[\"Alphabets\"][0],brailleDict[\"Alphabets\"][5],brailleDict[\"Alphabets\"][15])\n"
   ]
  },
  {
   "cell_type": "code",
   "execution_count": 12,
   "metadata": {},
   "outputs": [
    {
     "name": "stdout",
     "output_type": "stream",
     "text": [
      "H\n",
      "e\n",
      "l\n",
      "l\n",
      "o\n",
      "[7, 4, 11, 11, 14]\n",
      "⠓ ⠑ ⠇\n",
      "⠓ ⠑ ⠇ ⠇ ⠕\n"
     ]
    }
   ],
   "source": [
    "a=\"Hello\"\n",
    "\n",
    "b=[]\n",
    "for x in a:\n",
    "    print(x)\n",
    "\n",
    "    if  x[0]==\"A\" or x[0]==\"a\":\n",
    "        b.append(0)\n",
    "    elif x[0]==\"B\" or x[0]==\"b\":\n",
    "        b.append(1)\n",
    "    elif x[0]==\"C\" or x[0]==\"c\":\n",
    "        b.append(2)\n",
    "    elif x[0]==\"D\" or x[0]==\"d\":\n",
    "        b.append(3)\n",
    "    elif x[0]==\"E\" or x[0]==\"e\":\n",
    "        b.append(4)\n",
    "    elif x[0]==\"F\" or x[0]==\"f\":\n",
    "        b.append(5)\n",
    "    elif x[0]==\"G\" or x[0]==\"g\":\n",
    "        b.append(6)\n",
    "    elif x[0]==\"H\" or x[0]==\"h\":\n",
    "        b.append(7)\n",
    "    elif x[0]==\"I\" or x[0]==\"i\":\n",
    "        b.append(8)\n",
    "    elif x[0]==\"J\" or x[0]==\"j\":\n",
    "        b.append(9)\n",
    "    elif x[0]==\"K\" or x[0]==\"k\":\n",
    "        b.append(10)\n",
    "    elif x[0]==\"L\" or x[0]==\"l\":\n",
    "        b.append(11)\n",
    "    elif x[0]==\"M\" or x[0]==\"m\":\n",
    "        b.append(12)\n",
    "    elif x[0]==\"N\" or x[0]==\"n\":\n",
    "        b.append(13)\n",
    "    elif x[0]==\"O\" or x[0]==\"o\":\n",
    "        b.append(14)\n",
    "    elif x[0]==\"P\" or x[0]==\"p\":\n",
    "        b.append(15)\n",
    "    elif x[0]==\"Q\" or x[0]==\"q\":\n",
    "        b.append(16)\n",
    "    elif x[0]==\"R\" or x[0]==\"r\":\n",
    "        b.append(17)\n",
    "    elif x[0]==\"S\" or x[0]==\"s\":\n",
    "        b.append(18)\n",
    "    elif x[0]==\"T\" or x[0]==\"t\":\n",
    "        b.append(19)\n",
    "    elif x[0]==\"U\" or x[0]==\"u\":\n",
    "        b.append(20)\n",
    "    elif x[0]==\"V\" or x[0]==\"v\":\n",
    "        b.append(21)\n",
    "    elif x[0]==\"W\" or x[0]==\"w\":\n",
    "        b.append(22)\n",
    "    elif x[0]==\"X\" or x[0]==\"x\":\n",
    "        b.append(23)\n",
    "    elif x[0]==\"Y\" or x[0]==\"y\":\n",
    "        b.append(24)\n",
    "    elif x[0]==\"Z\" or x[0]==\"z\":\n",
    "        b.append(25)\n",
    "    else:\n",
    "        print(\"Invalid Input\")\n",
    "\n",
    "\n",
    "\n",
    "print(b)        \n",
    "\n",
    "print(brailleDict[\"Alphabets\"][b[0]],brailleDict[\"Alphabets\"][b[1]],brailleDict[\"Alphabets\"][b[2]])\n",
    "\n"
   ]
  }
 ],
 "metadata": {
  "kernelspec": {
   "display_name": "Python 3",
   "language": "python",
   "name": "python3"
  },
  "language_info": {
   "codemirror_mode": {
    "name": "ipython",
    "version": 3
   },
   "file_extension": ".py",
   "mimetype": "text/x-python",
   "name": "python",
   "nbconvert_exporter": "python",
   "pygments_lexer": "ipython3",
   "version": "3.10.1"
  },
  "orig_nbformat": 4
 },
 "nbformat": 4,
 "nbformat_minor": 2
}
