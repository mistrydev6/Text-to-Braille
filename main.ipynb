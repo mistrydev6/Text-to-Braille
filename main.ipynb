{
 "cells": [
  {
   "cell_type": "code",
   "execution_count": 18,
   "metadata": {},
   "outputs": [],
   "source": [
    "brailleDict={\n",
    "    \"A\"\t:\t\"⠁\",\n",
    "    \"B\"\t:\t\"⠃\",\n",
    "    \"C\"\t:\t\"⠉\",\n",
    "    \"D\"\t:\t\"⠙\",\n",
    "    \"E\"\t:\t\"⠑\",\n",
    "    \"F\"\t:\t\"⠋\",\n",
    "    \"G\"\t:\t\"⠛\",\n",
    "    \"H\"\t:\t\"⠓\",\n",
    "    \"I\"\t:\t\"⠊\",\n",
    "    \"J\"\t:\t\"⠚\",\n",
    "    \"K\"\t:\t\"⠅\",\n",
    "    \"L\"\t:\t\"⠇\",\n",
    "    \"M\"\t:\t\"⠍\",\n",
    "    \"N\"\t:\t\"⠝\",\n",
    "    \"O\"\t:\t\"⠕\",\n",
    "    \"P\"\t:\t\"⠏\",\n",
    "    \"Q\"\t:\t\"⠟\",\n",
    "    \"R\"\t:\t\"⠗\",\n",
    "    \"S\"\t:\t\"⠎\",\n",
    "    \"T\"\t:\t\"⠞\",\n",
    "    \"U\"\t:\t\"⠥\",\n",
    "    \"V\"\t:\t\"⠧\",\n",
    "    \"W\"\t:\t\"⠺\",\n",
    "    \"X\"\t:\t\"⠭\",\n",
    "    \"Y\"\t:\t\"⠽\",\n",
    "    \"Z\"\t:\t\"⠵\",\n",
    "    \"1\"\t:\t\"⠼⠁\",\n",
    "    \"2\"\t:\t\"⠼⠃\",\n",
    "    \"3\"\t:\t\"⠼⠉\",\n",
    "    \"4\"\t:\t\"⠼⠙\",\n",
    "    \"5\"\t:\t\"⠼⠑\",\n",
    "    \"6\"\t:\t\"⠼⠋\",\n",
    "    \"7\"\t:\t\"⠼⠛\",\n",
    "    \"8\"\t:\t\"⠼⠓\",\n",
    "    \"9\"\t:\t\"⠼⠊\",\n",
    "    \"0\"\t:\t\"⠼⠚\",\n",
    "    \" \" :   \" \",\n",
    "    # \",\"\t:\t\"⠂\",\n",
    "    # \";\"\t:\t\"⠆\",\n",
    "    # \":\"\t:\t\"⠒\",\n",
    "    # \".\"\t:\t\"⠲\",\n",
    "    # \"?\"\t:\t\"⠦\",\n",
    "    # \"!\"\t:\t\"⠖\",\n",
    "    # \"‘\"\t:\t\"⠄\",\n",
    "    # \"“\"\t:\t\"⠄⠶\",\n",
    "    # \"“\"\t:\t\"⠘⠦\",\n",
    "    # \"”\"\t:\t\"⠘⠴\",\n",
    "    # \"‘\"\t:\t\"⠄⠦\",\n",
    "    # \"’\"\t:\t\"⠄⠴\",\n",
    "    # \"(\"\t:\t\"⠐⠣\",\n",
    "    # \")\"\t:\t\"⠐⠜\",\n",
    "    # \"/\"\t:\t\"⠸⠌\",\n",
    "    # \"\\ \"\t:\t\"⠸⠡\",\n",
    "\n",
    "}"
   ]
  },
  {
   "cell_type": "code",
   "execution_count": 39,
   "metadata": {},
   "outputs": [
    {
     "name": "stdout",
     "output_type": "stream",
     "text": [
      "⠓⠑⠇⠇⠕ ⠓⠕⠺ ⠁⠗⠑ ⠽⠕⠥"
     ]
    }
   ],
   "source": [
    "a=str(input())\n",
    "\n",
    "a=a.upper()\n",
    "\n",
    "for x in a:\n",
    "\n",
    "    if x[0] in brailleDict:\n",
    "        print(brailleDict[x[0]], end=\"\")\n",
    "    elif x[0]==\" \":\n",
    "        print(\" \",end=\"\")\n",
    "\n",
    "\n"
   ]
  }
 ],
 "metadata": {
  "kernelspec": {
   "display_name": "Python 3",
   "language": "python",
   "name": "python3"
  },
  "language_info": {
   "codemirror_mode": {
    "name": "ipython",
    "version": 3
   },
   "file_extension": ".py",
   "mimetype": "text/x-python",
   "name": "python",
   "nbconvert_exporter": "python",
   "pygments_lexer": "ipython3",
   "version": "3.10.1"
  },
  "orig_nbformat": 4
 },
 "nbformat": 4,
 "nbformat_minor": 2
}
